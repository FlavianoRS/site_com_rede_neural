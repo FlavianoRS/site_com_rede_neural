{
 "cells": [
  {
   "cell_type": "code",
   "execution_count": 4,
   "metadata": {},
   "outputs": [],
   "source": [
    "import flask\n",
    "import tensorflow as tf"
   ]
  },
  {
   "cell_type": "code",
   "execution_count": null,
   "metadata": {},
   "outputs": [],
   "source": [
    "def teste_array(array):\n",
    "    for i in array:\n",
    "        print(array[i])"
   ]
  },
  {
   "cell_type": "code",
   "execution_count": 28,
   "metadata": {},
   "outputs": [],
   "source": [
    "model = tf.keras.models.Sequential()\n",
    "n = 140\n",
    "m=20\n",
    "c = 5\n",
    "for i in range(1,m+1):\n",
    "    if i == 1:\n",
    "        model.add(tf.keras.layers.Dense(units=n, activation='sigmoid', input_shape=[3]))\n",
    "    elif i == m:\n",
    "        model.add(tf.keras.layers.Dense(units=c, activation='sigmoid'))\n",
    "    else:\n",
    "        aux=int(n/i)\n",
    "        if aux <= c:\n",
    "            model.add(tf.keras.layers.Dense(units=c, activation='sigmoid'))\n",
    "        else:\n",
    "            model.add(tf.keras.layers.Dense(units=aux, activation='sigmoid'))\n",
    "\n",
    "#model.compile(optimizer='adam', loss='mean_squared_error', metrics=['Accuracy'])"
   ]
  },
  {
   "cell_type": "code",
   "execution_count": null,
   "metadata": {},
   "outputs": [],
   "source": [
    "model.summary()"
   ]
  }
 ],
 "metadata": {
  "kernelspec": {
   "display_name": "base",
   "language": "python",
   "name": "python3"
  },
  "language_info": {
   "codemirror_mode": {
    "name": "ipython",
    "version": 3
   },
   "file_extension": ".py",
   "mimetype": "text/x-python",
   "name": "python",
   "nbconvert_exporter": "python",
   "pygments_lexer": "ipython3",
   "version": "3.9.13"
  },
  "orig_nbformat": 4
 },
 "nbformat": 4,
 "nbformat_minor": 2
}
